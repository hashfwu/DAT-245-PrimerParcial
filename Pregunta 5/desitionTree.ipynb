{
 "cells": [
  {
   "cell_type": "markdown",
   "metadata": {},
   "source": [
    "# Con EXCEL realice al menos tres niveles del árbol de decisión que se aplicaría a su dataset seleccionado del punto 1."
   ]
  },
  {
   "cell_type": "markdown",
   "metadata": {},
   "source": [
    "> *Un árbol de decisión es un algoritmo de aprendizaje supervisado no paramétrico, que se utiliza tanto para tareas de clasificación como de regresión.* [Arboles de decision, IBM](https://www.ibm.com/es-es/topics/decision-trees)"
   ]
  },
  {
   "cell_type": "markdown",
   "metadata": {},
   "source": [
    "En nuestro caso, el *dataset* de `camera_dataset.csv` es de aprendijaze no supervisado, debido a que las cámaras de este *dataset* no estan clasificadas, y en teoría, el árbol de desición no es aplicable. Sin embargo, lo haremos del siguiente modo:<p>\n",
    "Como a mi persona le gustaria adquirir una cámara, supongamos que lo que quiero es ver cual de estas cámaras es mejor para mí en base a mis gustos, necesidades, y economía, pera ello definiremos dos atributos:\n",
    "- **BUENA CÁMARA**: Es una cámara que considero que es buena en base a mis gustos, necesidades y economía\n",
    "- **MALA CÁMARA**: Es una cámara que considero que es mala, ya que no se adapta a mis exigencias.\n",
    "<p>\n",
    "<p>\n",
    "Todo esto ser hara en base a: <p>\n",
    "\n",
    "1. **Model**: No se tomará en cuenta  por que no es una característica decisiva.\n",
    "2. **Release date**: Se dara prioridad a las cámaras que salieron después del dos mil.\n",
    "3. **Max resolution**: Se dará prioridad a las cámaras con resolución mayor a 2000.\n",
    "4. **Low resolution**: No tomaremos en cuenta este atributo por que con *MAX RESOLUTION* es suficiente.\n",
    "5. **Effective pixels**: Se tomará en cuenta las que son mayor a 5.\n",
    "6. **Zoom wide (W)**: No tomaremos en cuenta este atributo por que este tipo de zoom no me parece decisivo.\n",
    "7. **Zoom tele (T)**: Se tomara en cuenta los que tengan de 90 a 130.\n",
    "8. **Normal focus range**: Se tomrará en cuenta los que sean menor a 20 (son objetivos gran angular, para paisaje)\n",
    "9. **Macro focus range**: No se tomará en cuenta  por que no es una característica decisiva.\n",
    "10. **Storage included**: No se tomará en cuenta  por que no es una característica decisiva.\n",
    "11. **Weight (inc. batteries)**: No se tomará en cuenta  por que no es una característica decisiva.\n",
    "12. **Dimensions**: Se tomará en cuenta los que miden de 90 a 110.\n",
    "13. **Price**: Se tomrá en cuenta a los que esten debajo de los 2000.\n",
    "Asi tendremos el siguiente arbol de desición:"
   ]
  },
  {
   "cell_type": "markdown",
   "metadata": {},
   "source": [
    "![alt text](treeDiagram.png)"
   ]
  },
  {
   "cell_type": "markdown",
   "metadata": {},
   "source": [
    "Insertamos nuestro *datase* ya procesado a excel <p>\n",
    "![alt text](image.png) <p>"
   ]
  },
  {
   "cell_type": "markdown",
   "metadata": {},
   "source": [
    "Eliminaremos las columanas no necesarias, o que no influiran en nuestro arbol de decisión: <p>\n",
    "![alt text](image-1.png) <p>\n",
    "Dejeremos las columnas de los modelos, por que son identificadores <p>\n",
    "![alt text](image-2.png) <p>\n",
    "Ordenaremos nuestras columas de acuerdo al diagrama <p>\n",
    "![alt text](image-3.png) <p>\n",
    "<p>\n",
    "Como podemos advertir, los datos estan normalizados, y por ello es un poco irreconocible datos, por ejemplo, como la fecha.\n"
   ]
  },
  {
   "cell_type": "markdown",
   "metadata": {},
   "source": [
    "## Fuentes\n",
    "- [Arboles de decision, IBM](https://www.ibm.com/es-es/topics/decision-trees)\n",
    "- [Árboles de decisión: qué son y cuál es su uso en Big Data](https://mexico.unir.net/noticias/ingenieria/arboles-de-decision/)"
   ]
  }
 ],
 "metadata": {
  "language_info": {
   "name": "python"
  }
 },
 "nbformat": 4,
 "nbformat_minor": 2
}
